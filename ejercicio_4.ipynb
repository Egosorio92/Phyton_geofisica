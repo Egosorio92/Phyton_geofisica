{
 "cells": [
  {
   "cell_type": "code",
   "execution_count": 5,
   "metadata": {},
   "outputs": [
    {
     "name": "stdout",
     "output_type": "stream",
     "text": [
      "Lanzamiento 1: [1, 5, 6, 2, 2]\n",
      "Lanzamiento 2: [2, 2, 5, 4, 5]\n",
      "Lanzamiento 3: [3, 4, 5, 5, 2]\n",
      "Lanzamiento 4: [6, 3, 1, 1, 6]\n",
      "Lanzamiento 5: [3, 2, 2, 2, 3]\n",
      "Lanzamiento 6: [1, 4, 1, 6, 6]\n",
      "Lanzamiento 7: [5, 5, 2, 6, 4]\n",
      "\n",
      "Estadísticas:\n",
      "Número más común: 2\n",
      "Media: 3.4857142857142858\n",
      "Desviación estándar: 1.7463664902784144\n",
      "Valor mínimo: 1\n",
      "Valor máximo: 6\n"
     ]
    }
   ],
   "source": [
    "import random\n",
    "import numpy as np\n",
    "\n",
    "def lanzamiento_de_dados(num_dados, num_lanzamientos):\n",
    "    resultados = []\n",
    "    for lanzamiento in range(num_lanzamientos):\n",
    "        resultado_lanzamiento = [random.randint(1, 6) for _ in range(num_dados)]\n",
    "        resultados.append(resultado_lanzamiento)\n",
    "        print(f'Lanzamiento {lanzamiento + 1}: {resultado_lanzamiento}')\n",
    "\n",
    "    resultados_np = np.array(resultados)\n",
    "    mas_comun = np.bincount(resultados_np.flatten()).argmax()\n",
    "    media = np.mean(resultados_np)\n",
    "    desviacion_estandar = np.std(resultados_np)\n",
    "    valor_minimo = np.min(resultados_np)\n",
    "    valor_maximo = np.max(resultados_np)\n",
    "\n",
    "    print(\"\\nEstadísticas:\")\n",
    "    print(f\"Número más común: {mas_comun}\")\n",
    "    print(f\"Media: {media}\")\n",
    "    print(f\"Desviación estándar: {desviacion_estandar}\")\n",
    "    print(f\"Valor mínimo: {valor_minimo}\")\n",
    "    print(f\"Valor máximo: {valor_maximo}\")\n",
    "\n",
    "num_dados = int(input(\"Ingrese el número de dados: \"))\n",
    "num_lanzamientos =int(input(\"Ingrese el número de lanzamientos: \")) #10  # Cambiado a 10 lanzamientos como se especificó\n",
    "        \n",
    "lanzamiento_de_dados(num_dados, num_lanzamientos)\n",
    "   \n",
    "\n",
    "   \n",
    "\n"
   ]
  }
 ],
 "metadata": {
  "kernelspec": {
   "display_name": "ambiente_curso",
   "language": "python",
   "name": "python3"
  },
  "language_info": {
   "codemirror_mode": {
    "name": "ipython",
    "version": 3
   },
   "file_extension": ".py",
   "mimetype": "text/x-python",
   "name": "python",
   "nbconvert_exporter": "python",
   "pygments_lexer": "ipython3",
   "version": "3.12.1"
  }
 },
 "nbformat": 4,
 "nbformat_minor": 2
}
